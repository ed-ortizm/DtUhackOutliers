{
 "cells": [
  {
   "cell_type": "markdown",
   "metadata": {
    "toc": "true"
   },
   "source": [
    "# Table of Contents\n",
    " <p><div class=\"lev2 toc-item\"><a href=\"#drop-errorbars\" data-toc-modified-id=\"drop-errorbars-01\"><span class=\"toc-item-num\">0.1&nbsp;&nbsp;</span>drop errorbars</a></div><div class=\"lev2 toc-item\"><a href=\"#detrend-(just-in-casem-uncomment-the-detrend-line-if-you-wish-to-)\" data-toc-modified-id=\"detrend-(just-in-casem-uncomment-the-detrend-line-if-you-wish-to-)-02\"><span class=\"toc-item-num\">0.2&nbsp;&nbsp;</span>detrend (just in casem uncomment the detrend line if you wish to )</a></div><div class=\"lev2 toc-item\"><a href=\"#create-a-sparse-version\" data-toc-modified-id=\"create-a-sparse-version-03\"><span class=\"toc-item-num\">0.3&nbsp;&nbsp;</span>create a sparse version</a></div><div class=\"lev2 toc-item\"><a href=\"#weirdest-object\" data-toc-modified-id=\"weirdest-object-04\"><span class=\"toc-item-num\">0.4&nbsp;&nbsp;</span>weirdest object</a></div>"
   ]
  },
  {
   "cell_type": "code",
   "execution_count": 158,
   "metadata": {
    "ExecuteTime": {
     "end_time": "2017-03-01T08:06:03.207321",
     "start_time": "2017-03-01T08:06:03.197787"
    },
    "collapsed": false
   },
   "outputs": [
    {
     "data": {
      "text/plain": [
       "'from a Kepler lcvs array creatse a sparse npy array by random selection'"
      ]
     },
     "execution_count": 158,
     "metadata": {},
     "output_type": "execute_result"
    }
   ],
   "source": [
    "__author__ = \"federica b bianco - NYU 2017\"\n",
    "'''from a Kepler lcvs array creatse a sparse npy array by random selection'''"
   ]
  },
  {
   "cell_type": "code",
   "execution_count": 237,
   "metadata": {
    "ExecuteTime": {
     "end_time": "2017-03-01T09:32:38.791070",
     "start_time": "2017-03-01T09:32:38.491787"
    },
    "collapsed": false,
    "run_control": {
     "frozen": false,
     "read_only": false
    }
   },
   "outputs": [
    {
     "name": "stdout",
     "output_type": "stream",
     "text": [
      "Populating the interactive namespace from numpy and matplotlib\n"
     ]
    }
   ],
   "source": [
    "import numpy as np\n",
    "import pylab as pl\n",
    "import sklearn as skl\n",
    "\n",
    "%pylab inline\n",
    "pl.rcParams['figure.figsize'] = (10,10)\n",
    "pl.rcParams['font.size'] = 20\n"
   ]
  },
  {
   "cell_type": "code",
   "execution_count": 259,
   "metadata": {
    "ExecuteTime": {
     "end_time": "2017-03-01T09:51:59.633879",
     "start_time": "2017-03-01T09:51:59.617018"
    },
    "collapsed": false
   },
   "outputs": [],
   "source": [
    "lcvsKep = np.load(\"data/KeplerSampleWErr.npy\")"
   ]
  },
  {
   "cell_type": "markdown",
   "metadata": {},
   "source": [
    "## drop errorbars"
   ]
  },
  {
   "cell_type": "code",
   "execution_count": 263,
   "metadata": {
    "ExecuteTime": {
     "end_time": "2017-03-01T09:52:23.042890",
     "start_time": "2017-03-01T09:52:23.034422"
    },
    "collapsed": true
   },
   "outputs": [],
   "source": [
    "lcvsKep[:,2] = (lcvsKep[:,2,:] * 1e-4)"
   ]
  },
  {
   "cell_type": "markdown",
   "metadata": {},
   "source": [
    "## detrend (just in casem uncomment the detrend line if you wish to )"
   ]
  },
  {
   "cell_type": "code",
   "execution_count": 264,
   "metadata": {
    "ExecuteTime": {
     "end_time": "2017-03-01T09:52:25.474529",
     "start_time": "2017-03-01T09:52:25.465961"
    },
    "collapsed": false
   },
   "outputs": [
    {
     "data": {
      "text/plain": [
       "0.9994440058112144"
      ]
     },
     "execution_count": 264,
     "metadata": {},
     "output_type": "execute_result"
    }
   ],
   "source": [
    "lcvsKep[:,1].mean()"
   ]
  },
  {
   "cell_type": "code",
   "execution_count": 265,
   "metadata": {
    "ExecuteTime": {
     "end_time": "2017-03-01T09:52:25.917657",
     "start_time": "2017-03-01T09:52:25.912579"
    },
    "collapsed": false
   },
   "outputs": [],
   "source": [
    "trend = lcvsKep[:,1].mean(axis = 0)\n",
    "#lcvsKep[:,1,:] /= trend"
   ]
  },
  {
   "cell_type": "markdown",
   "metadata": {},
   "source": [
    "## create a sparse version"
   ]
  },
  {
   "cell_type": "code",
   "execution_count": 266,
   "metadata": {
    "ExecuteTime": {
     "end_time": "2017-03-01T09:52:27.515476",
     "start_time": "2017-03-01T09:52:27.507479"
    },
    "collapsed": true
   },
   "outputs": [],
   "source": [
    "lcvsKepSparse = np.zeros((lcvsKep.shape[0], lcvsKep.shape[1], 50))"
   ]
  },
  {
   "cell_type": "code",
   "execution_count": 267,
   "metadata": {
    "ExecuteTime": {
     "end_time": "2017-03-01T09:52:27.811817",
     "start_time": "2017-03-01T09:52:27.806749"
    },
    "collapsed": false
   },
   "outputs": [],
   "source": [
    "np.random.seed(666)"
   ]
  },
  {
   "cell_type": "code",
   "execution_count": 268,
   "metadata": {
    "ExecuteTime": {
     "end_time": "2017-03-01T09:52:28.213507",
     "start_time": "2017-03-01T09:52:28.159374"
    },
    "collapsed": false
   },
   "outputs": [],
   "source": [
    "lcvsKepSparse = np.array([lcvsKep[i, :, np.sort(choice)].T for i,choice in enumerate(np.random.randint(0, 100, lcvsKep.shape[0]*50).reshape(lcvsKep.shape[0],50))])"
   ]
  },
  {
   "cell_type": "code",
   "execution_count": 269,
   "metadata": {
    "ExecuteTime": {
     "end_time": "2017-03-01T09:52:28.583628",
     "start_time": "2017-03-01T09:52:28.576239"
    },
    "collapsed": false
   },
   "outputs": [
    {
     "data": {
      "text/plain": [
       "(2500, 3, 50)"
      ]
     },
     "execution_count": 269,
     "metadata": {},
     "output_type": "execute_result"
    }
   ],
   "source": [
    "lcvsKepSparse.shape"
   ]
  },
  {
   "cell_type": "code",
   "execution_count": 271,
   "metadata": {
    "ExecuteTime": {
     "end_time": "2017-03-01T09:52:39.681277",
     "start_time": "2017-03-01T09:52:39.292467"
    },
    "collapsed": false
   },
   "outputs": [
    {
     "data": {
      "text/plain": [
       "<Container object of 3 artists>"
      ]
     },
     "execution_count": 271,
     "metadata": {},
     "output_type": "execute_result"
    },
    {
     "data": {
      "image/png": "[encoded data removed]",
      "text/plain": [
       "<matplotlib.figure.Figure at 0x1229c8350>"
      ]
     },
     "metadata": {},
     "output_type": "display_data"
    }
   ],
   "source": [
    "pl.errorbar(lcvsKep[50,0,:], lcvsKep[50,1,:], yerr=lcvsKep[50,2,:], fmt='.')\n",
    "\n",
    "pl.errorbar(lcvsKepSparse[50,0,:], lcvsKepSparse[50,1,:], yerr=lcvsKepSparse[50,2,:], fmt='o', alpha=0.2)\n",
    "\n"
   ]
  },
  {
   "cell_type": "code",
   "execution_count": null,
   "metadata": {
    "ExecuteTime": {
     "end_time": "2017-03-01T09:51:54.252018",
     "start_time": "2017-03-01T09:51:54.245467"
    },
    "collapsed": false
   },
   "outputs": [],
   "source": []
  },
  {
   "cell_type": "code",
   "execution_count": 272,
   "metadata": {
    "ExecuteTime": {
     "end_time": "2017-03-01T09:52:42.127296",
     "start_time": "2017-03-01T09:52:41.928333"
    },
    "collapsed": false
   },
   "outputs": [],
   "source": [
    "np.save(\"data/KeplerSampleWErrSparse.npy\", lcvsKepSparse)\n",
    "np.save(\"data/KeplerSampleWErr_GoodErr.npy\", lcvsKep)"
   ]
  },
  {
   "cell_type": "code",
   "execution_count": 273,
   "metadata": {
    "ExecuteTime": {
     "end_time": "2017-03-01T09:52:42.402110",
     "start_time": "2017-03-01T09:52:42.384713"
    },
    "collapsed": false
   },
   "outputs": [],
   "source": [
    "indx = ((np.abs(lcvsKep[:,1,:] - trend).mean(axis=1) - (lcvsKep[:,1,:] - trend).mean(axis=1).mean()) > 2.0 * (lcvsKep[:,1,:] - trend).std(axis=1))"
   ]
  },
  {
   "cell_type": "code",
   "execution_count": 274,
   "metadata": {
    "ExecuteTime": {
     "end_time": "2017-03-01T09:52:42.630971",
     "start_time": "2017-03-01T09:52:42.613690"
    },
    "collapsed": true
   },
   "outputs": [],
   "source": [
    "devmax = ((np.abs(lcvsKep[:,1,:] - trend).mean(axis=1) - (lcvsKep[:,1,:] - trend).mean(axis=1).mean()).max())\n",
    "indxmax = ((np.abs(lcvsKep[:,1,:] - trend).mean(axis=1) - (lcvsKep[:,1,:] - trend).mean(axis=1).mean()) == devmax)"
   ]
  },
  {
   "cell_type": "markdown",
   "metadata": {},
   "source": [
    "## weirdest object"
   ]
  },
  {
   "cell_type": "code",
   "execution_count": 277,
   "metadata": {
    "ExecuteTime": {
     "end_time": "2017-03-01T09:52:53.521934",
     "start_time": "2017-03-01T09:52:52.822646"
    },
    "collapsed": false
   },
   "outputs": [
    {
     "data": {
      "text/plain": [
       "Text(0,0.5,u'flux(normalized)')"
      ]
     },
     "execution_count": 277,
     "metadata": {},
     "output_type": "execute_result"
    },
    {
     "data": {
      "image/png": "[encoded data removed]",
      "text/plain": [
       "<matplotlib.figure.Figure at 0x123430950>"
      ]
     },
     "metadata": {},
     "output_type": "display_data"
    }
   ],
   "source": [
    "pl.errorbar(lcvsKep[indxmax,0,:], lcvsKep[indxmax,1,:], yerr=lcvsKep[indxmax,2,:], fmt='o')\n",
    "pl.errorbar(lcvsKep[50,0,:], trend , yerr=lcvsKep[:,1].std(axis = 0), fmt='-')\n",
    "pl.errorbar(lcvsKepSparse[indxmax,0,:], lcvsKepSparse[indxmax,1,:], yerr=lcvsKepSparse[indxmax,2,:] , fmt='o', alpha=0.5)\n",
    " \n",
    "pl.xlabel(\"time(days)\")\n",
    "pl.ylabel(\"flux(normalized)\")"
   ]
  },
  {
   "cell_type": "code",
   "execution_count": null,
   "metadata": {
    "collapsed": true
   },
   "outputs": [],
   "source": []
  }
 ],
 "metadata": {
  "anaconda-cloud": {},
  "kernelspec": {
   "display_name": "Python [default]",
   "language": "python",
   "name": "python2"
  },
  "language_info": {
   "codemirror_mode": {
    "name": "ipython",
    "version": 2
   },
   "file_extension": ".py",
   "mimetype": "text/x-python",
   "name": "python",
   "nbconvert_exporter": "python",
   "pygments_lexer": "ipython2",
   "version": "2.7.12"
  },
  "toc": {
   "colors": {
    "hover_highlight": "#DAA520",
    "running_highlight": "#FF0000",
    "selected_highlight": "#FFD700"
   },
   "moveMenuLeft": true,
   "nav_menu": {
    "height": "110px",
    "width": "254px"
   },
   "navigate_menu": true,
   "number_sections": true,
   "sideBar": true,
   "threshold": 4,
   "toc_cell": true,
   "toc_section_display": "block",
   "toc_window_display": true
  }
 },
 "nbformat": 4,
 "nbformat_minor": 1
}
