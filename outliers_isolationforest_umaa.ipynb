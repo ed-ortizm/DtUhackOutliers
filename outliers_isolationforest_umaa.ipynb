{
 "cells": [
  {
   "cell_type": "code",
   "execution_count": 2,
   "metadata": {
    "collapsed": false
   },
   "outputs": [],
   "source": [
    "import numpy as np\n",
    "import matplotlib.pyplot as pl\n",
    "from sklearn.ensemble import IsolationForest\n",
    "\n",
    "# importing data\n",
    "#\n",
    "\n",
    "data = np.load('KeplerSampleWErrSparse.npy')"
   ]
  },
  {
   "cell_type": "code",
   "execution_count": 5,
   "metadata": {
    "collapsed": false
   },
   "outputs": [
    {
     "name": "stdout",
     "output_type": "stream",
     "text": [
      "(2500, 3, 50)\n"
     ]
    }
   ],
   "source": [
    "# pre-process\n",
    "#\n",
    "print(data.shape)\n",
    "\n",
    "# extract out the flux (don't use errors)\n",
    "#\n",
    "# data_no_err = data[:,1,:]\n",
    "# print(data_no_err.shape)"
   ]
  },
  {
   "cell_type": "code",
   "execution_count": 6,
   "metadata": {
    "collapsed": false
   },
   "outputs": [
    {
     "ename": "SyntaxError",
     "evalue": "invalid syntax (<ipython-input-6-195a5db4f449>, line 6)",
     "output_type": "error",
     "traceback": [
      "\u001b[0;36m  File \u001b[0;32m\"<ipython-input-6-195a5db4f449>\"\u001b[0;36m, line \u001b[0;32m6\u001b[0m\n\u001b[0;31m    pl.plot(data(i,0,:), data(i,1,:) )\u001b[0m\n\u001b[0m                     ^\u001b[0m\n\u001b[0;31mSyntaxError\u001b[0m\u001b[0;31m:\u001b[0m invalid syntax\n"
     ]
    }
   ],
   "source": [
    "# visualizing the light curves\n",
    "#\n",
    "for i in range(50):\n",
    "    \n",
    "    # plot each curve\n",
    "    fig = pl.fig\n",
    "    pl.plot(data(i,0,:), data(i,1,:))\n",
    "    pl.show()\n",
    "    \n",
    "    if i == 10:\n",
    "        break\n",
    "    \n",
    "print(data_no_err[0,:])"
   ]
  },
  {
   "cell_type": "code",
   "execution_count": null,
   "metadata": {
    "collapsed": true
   },
   "outputs": [],
   "source": [
    "# # build a simple model\n",
    "# #\n",
    "\n",
    "# # fit the model\n",
    "# clf = IsolationForest(max_samples=100, random_state=rng)\n",
    "# clf.fit(X_train)\n",
    "# y_pred_train = clf.predict(X_train)\n",
    "# y_pred_test = clf.predict(X_test)\n",
    "# y_pred_outliers = clf.predict(X_outliers)"
   ]
  },
  {
   "cell_type": "code",
   "execution_count": null,
   "metadata": {
    "collapsed": true
   },
   "outputs": [],
   "source": []
  }
 ],
 "metadata": {
  "anaconda-cloud": {},
  "kernelspec": {
   "display_name": "Python [py35actuv]",
   "language": "python",
   "name": "Python [py35actuv]"
  },
  "language_info": {
   "codemirror_mode": {
    "name": "ipython",
    "version": 3
   },
   "file_extension": ".py",
   "mimetype": "text/x-python",
   "name": "python",
   "nbconvert_exporter": "python",
   "pygments_lexer": "ipython3",
   "version": "3.5.2"
  }
 },
 "nbformat": 4,
 "nbformat_minor": 0
}
